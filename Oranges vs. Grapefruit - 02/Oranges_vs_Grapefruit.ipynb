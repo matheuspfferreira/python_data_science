{
  "nbformat": 4,
  "nbformat_minor": 0,
  "metadata": {
    "colab": {
      "provenance": []
    },
    "kernelspec": {
      "name": "python3",
      "display_name": "Python 3"
    },
    "language_info": {
      "name": "python"
    }
  },
  "cells": [
    {
      "cell_type": "markdown",
      "source": [
        "#Projeto - Oranges vs. Grapefruit 🟠 vs. 🔴\n",
        "##### Por: **Matheus Pintor Fernandes Ferreira**"
      ],
      "metadata": {
        "id": "Y03cjtHEc9Ex"
      }
    },
    {
      "cell_type": "markdown",
      "source": [
        "### *Etapa 01 - Importação e manipulação do conjunto de dados*"
      ],
      "metadata": {
        "id": "KiMekXUSdS80"
      }
    },
    {
      "cell_type": "code",
      "source": [
        "# Importando as bibliotecas\n",
        "import numpy as np\n",
        "import matplotlib.pyplot as plt"
      ],
      "metadata": {
        "id": "1hQyiifvfAGE"
      },
      "execution_count": 8,
      "outputs": []
    },
    {
      "cell_type": "code",
      "source": [
        "# Url do conjunto de dados\n",
        "url = 'https://raw.githubusercontent.com/allanspadini/numpy/dados/citrus.csv'"
      ],
      "metadata": {
        "id": "fK2cnHRGdk0J"
      },
      "execution_count": 9,
      "outputs": []
    },
    {
      "cell_type": "code",
      "source": [
        "# Definindo as colunas que serão utilizadas\n",
        "colunas = np.arange(1, 6)"
      ],
      "metadata": {
        "id": "EOVYWJo-fLBb"
      },
      "execution_count": 10,
      "outputs": []
    },
    {
      "cell_type": "code",
      "source": [
        "# Carregando o dataset\n",
        "dataset = np.loadtxt(url, delimiter=',', skiprows=1, usecols = colunas, dtype=float)\n",
        "dataset\n",
        "# Observações: não foram carregadas a primeira linha e coluna"
      ],
      "metadata": {
        "colab": {
          "base_uri": "https://localhost:8080/"
        },
        "id": "MfNGM8sjeJef",
        "outputId": "43b29f32-57df-469b-845c-d599821ceaa7"
      },
      "execution_count": 11,
      "outputs": [
        {
          "output_type": "execute_result",
          "data": {
            "text/plain": [
              "array([[  2.96,  86.76, 172.  ,  85.  ,   2.  ],\n",
              "       [  3.91,  88.05, 166.  ,  78.  ,   3.  ],\n",
              "       [  4.42,  95.17, 156.  ,  81.  ,   2.  ],\n",
              "       ...,\n",
              "       [ 15.59, 256.5 , 168.  ,  82.  ,  20.  ],\n",
              "       [ 15.92, 260.14, 142.  ,  72.  ,  11.  ],\n",
              "       [ 16.45, 261.51, 152.  ,  74.  ,   2.  ]])"
            ]
          },
          "metadata": {},
          "execution_count": 11
        }
      ]
    },
    {
      "cell_type": "code",
      "source": [
        "# Obtendo os diâmetros das laranjas e toranjas\n",
        "diametros_laranjas = dataset[:5000, 0]\n",
        "diametros_toranjas = dataset[5000:, 0]"
      ],
      "metadata": {
        "id": "-DP2pqj2gACh"
      },
      "execution_count": 12,
      "outputs": []
    },
    {
      "cell_type": "code",
      "source": [
        "# Obtendo os pesos das laranjs e toranjas\n",
        "pesos_laranjas = dataset[:5000, 1]\n",
        "pesos_toranjas = dataset[5000:, 1]"
      ],
      "metadata": {
        "id": "Fw3-7mO30Wsp"
      },
      "execution_count": 13,
      "outputs": []
    },
    {
      "cell_type": "code",
      "source": [
        "# Criando um gráfico comparando o diâmetro pelo peso\n",
        "plt.plot(diametros_laranjas, pesos_laranjas)\n",
        "plt.plot(diametros_toranjas, pesos_toranjas)\n",
        "plt.legend(['Laranjas', 'Toranjas'])"
      ],
      "metadata": {
        "id": "So2ee9lI0ZAL",
        "outputId": "c87d71f7-f9f8-4e6e-9f75-50ec546eef82",
        "colab": {
          "base_uri": "https://localhost:8080/",
          "height": 447
        }
      },
      "execution_count": 14,
      "outputs": [
        {
          "output_type": "execute_result",
          "data": {
            "text/plain": [
              "<matplotlib.legend.Legend at 0x7db6ed18dd80>"
            ]
          },
          "metadata": {},
          "execution_count": 14
        },
        {
          "output_type": "display_data",
          "data": {
            "text/plain": [
              "<Figure size 640x480 with 1 Axes>"
            ],
            "image/png": "[encoded data removed]"
          },
          "metadata": {}
        }
      ]
    }
  ]
}