{
  "nbformat": 4,
  "nbformat_minor": 0,
  "metadata": {
    "colab": {
      "provenance": []
    },
    "kernelspec": {
      "name": "python3",
      "display_name": "Python 3"
    },
    "language_info": {
      "name": "python"
    }
  },
  "cells": [
    {
      "cell_type": "markdown",
      "source": [
        "#Projeto - Oranges vs. Grapefruit 🟠 vs. 🔴\n",
        "##### Por: **Matheus Pintor Fernandes Ferreira**"
      ],
      "metadata": {
        "id": "Y03cjtHEc9Ex"
      }
    },
    {
      "cell_type": "markdown",
      "source": [
        "### *Etapa 01 - Importação e manipulação do conjunto de dados*"
      ],
      "metadata": {
        "id": "KiMekXUSdS80"
      }
    },
    {
      "cell_type": "code",
      "source": [
        "# Importando as bibliotecas\n",
        "import numpy as np"
      ],
      "metadata": {
        "id": "1hQyiifvfAGE"
      },
      "execution_count": null,
      "outputs": []
    },
    {
      "cell_type": "code",
      "source": [
        "# Url do conjunto de dados\n",
        "url = 'https://raw.githubusercontent.com/allanspadini/numpy/dados/citrus.csv'"
      ],
      "metadata": {
        "id": "fK2cnHRGdk0J"
      },
      "execution_count": null,
      "outputs": []
    },
    {
      "cell_type": "code",
      "source": [
        "# Definindo as colunas que serão utilizadas\n",
        "colunas = np.arange(1, 6)"
      ],
      "metadata": {
        "colab": {
          "base_uri": "https://localhost:8080/"
        },
        "id": "EOVYWJo-fLBb",
        "outputId": "487c5777-ac87-40fd-bb11-8e8136c1b5e6"
      },
      "execution_count": null,
      "outputs": [
        {
          "output_type": "execute_result",
          "data": {
            "text/plain": [
              "array([1, 2, 3, 4, 5])"
            ]
          },
          "metadata": {},
          "execution_count": 5
        }
      ]
    },
    {
      "cell_type": "code",
      "source": [
        "# Carregando o dataset\n",
        "dataset = np.loadtxt(url, delimiter=',', skiprows=1, usecols = colunas, dtype=float)\n",
        "dataset\n",
        "# Observações: não foram carregadas a primeira linha e coluna"
      ],
      "metadata": {
        "colab": {
          "base_uri": "https://localhost:8080/"
        },
        "id": "MfNGM8sjeJef",
        "outputId": "c3eb561c-dcd7-493c-bdd4-6c49508cd9a1"
      },
      "execution_count": null,
      "outputs": [
        {
          "output_type": "execute_result",
          "data": {
            "text/plain": [
              "array([[  2.96,  86.76, 172.  ,  85.  ,   2.  ],\n",
              "       [  3.91,  88.05, 166.  ,  78.  ,   3.  ],\n",
              "       [  4.42,  95.17, 156.  ,  81.  ,   2.  ],\n",
              "       ...,\n",
              "       [ 15.59, 256.5 , 168.  ,  82.  ,  20.  ],\n",
              "       [ 15.92, 260.14, 142.  ,  72.  ,  11.  ],\n",
              "       [ 16.45, 261.51, 152.  ,  74.  ,   2.  ]])"
            ]
          },
          "metadata": {},
          "execution_count": 10
        }
      ]
    },
    {
      "cell_type": "code",
      "source": [
        "\n"
      ],
      "metadata": {
        "id": "-DP2pqj2gACh"
      },
      "execution_count": null,
      "outputs": []
    }
  ]
}