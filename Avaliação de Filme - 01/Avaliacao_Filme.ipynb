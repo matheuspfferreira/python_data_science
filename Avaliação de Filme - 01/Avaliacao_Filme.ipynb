{
  "nbformat": 4,
  "nbformat_minor": 0,
  "metadata": {
    "colab": {
      "provenance": []
    },
    "kernelspec": {
      "name": "python3",
      "display_name": "Python 3"
    },
    "language_info": {
      "name": "python"
    }
  },
  "cells": [
    {
      "cell_type": "code",
      "execution_count": 2,
      "metadata": {
        "id": "FkZbMdqGbEL5"
      },
      "outputs": [],
      "source": [
        "# Nomes dos clientes que avaliaram o filme\n",
        "nomes = [\n",
        "    'Ana', 'Bruno', 'Carlos', 'Diana', 'Eduardo',\n",
        "    'Fernanda', 'Gabriel', 'Helena', 'Igor', 'Julia',\n",
        "    'Karen', 'Leonardo', 'Marina', 'Nicolas', 'Olivia',\n",
        "    'Paulo', 'Rafaela', 'Sofia', 'Thiago', 'Vanessa'\n",
        "]"
      ]
    },
    {
      "cell_type": "code",
      "source": [
        "# Gêneros dos clientes\n",
        "generos = [\n",
        "    'F', 'M', 'M', 'F', 'M',\n",
        "    'F', 'M', 'F', 'M', 'F',\n",
        "    'F', 'M', 'F', 'M', 'F',\n",
        "    'M', 'F', 'F', 'M', 'F'\n",
        "]"
      ],
      "metadata": {
        "id": "tOSnXDFjbtk9"
      },
      "execution_count": 3,
      "outputs": []
    },
    {
      "cell_type": "code",
      "source": [
        "# Notas dadas pelos clientes para o filme\n",
        "notas = [\n",
        "    8.5, 7.0, 9.2, 6.8, 7.5,\n",
        "    8.0, 6.5, 9.0, 7.8, 8.2,\n",
        "    5.9, 7.3, 6.4, 8.7, 9.1,\n",
        "    7.6, 6.9, 8.8, 7.2, 8.4\n",
        "]"
      ],
      "metadata": {
        "id": "2_wPF_kkczcB"
      },
      "execution_count": 5,
      "outputs": []
    },
    {
      "cell_type": "code",
      "source": [
        "# Demanda 01 - Combinando as informações dos clientes em um dicionário\n",
        "clientes = {nomes[i]: [generos[i], notas[i]] for i in range(len(nomes))}\n",
        "\n",
        "# Obtendo as informações de um cliente\n",
        "try:\n",
        "  usuario = input('Informe o nome do cliente: ').strip().capitalize()\n",
        "  infos = clientes[usuario]\n",
        "except KeyError:\n",
        "  print('Cliente não cadastrado')\n",
        "else:\n",
        "  print(infos)"
      ],
      "metadata": {
        "colab": {
          "base_uri": "https://localhost:8080/"
        },
        "id": "0VZYWMxAcnRz",
        "outputId": "34992c39-6852-467f-fd88-2cf3b9880222"
      },
      "execution_count": 20,
      "outputs": [
        {
          "output_type": "stream",
          "name": "stdout",
          "text": [
            "Informe o nome do cliente: Bruno\n",
            "['M', 7.0]\n"
          ]
        }
      ]
    },
    {
      "cell_type": "code",
      "source": [
        "# Demanda 02 - Descobrir qual público (masc. ou femi.) gostou mais do filme\n",
        "\n",
        "# Função que calcula a média de notas\n",
        "def media_notas(notas_genero: list) -> float:\n",
        "  return round(sum(notas_genero) / len(notas_genero), 1)\n",
        "\n",
        "# Separando as notas dos homens\n",
        "notas_homens = [info[1] for info in clientes.values() if info[0] == 'M']\n",
        "\n",
        "# Separando as notas das mulheres\n",
        "notas_mulheres = [info[1] for info in clientes.values() if info[0] == 'F']\n",
        "\n",
        "# Calculando a média de nota de ambos gêneros\n",
        "media_homens = media_notas(notas_homens)\n",
        "media_mulheres = media_notas(notas_mulheres)\n",
        "\n",
        "# Exibindo o resultado\n",
        "print(f'Média de nota pelo público masculino: {media_homens}')\n",
        "print(f'Média de nota pelo público feminino: {media_mulheres}')"
      ],
      "metadata": {
        "colab": {
          "base_uri": "https://localhost:8080/"
        },
        "id": "_KGjZuHndTJc",
        "outputId": "b59cf710-8f68-46be-a6a4-57873dd54fbc"
      },
      "execution_count": 22,
      "outputs": [
        {
          "output_type": "stream",
          "name": "stdout",
          "text": [
            "Média de nota pelo público masculino: 7.6\n",
            "Média de nota pelo público feminino: 7.8\n"
          ]
        }
      ]
    }
  ]
}